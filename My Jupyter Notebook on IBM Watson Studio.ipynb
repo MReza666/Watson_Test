{
    "cells": [
        {
            "cell_type": "markdown",
            "metadata": {},
            "source": "# My Jupyter Notebook on IBM Watson Studio"
        },
        {
            "cell_type": "markdown",
            "metadata": {
                "collapsed": true
            },
            "source": "**MReza Amini**"
        },
        {
            "cell_type": "markdown",
            "metadata": {},
            "source": "Turbomachinery Engineer"
        },
        {
            "cell_type": "markdown",
            "metadata": {},
            "source": "*I am interested in data science because it could help to investigate an analyze large amount of data and extract relations between data. It could help improve design and performance of machines.*"
        },
        {
            "cell_type": "markdown",
            "metadata": {},
            "source": "### The foloowing code calculates the sum of integers from 1 to 10"
        },
        {
            "cell_type": "code",
            "execution_count": 9,
            "metadata": {},
            "outputs": [
                {
                    "data": {
                        "text/plain": "55"
                    },
                    "execution_count": 9,
                    "metadata": {},
                    "output_type": "execute_result"
                }
            ],
            "source": "sum(range(1,10+1))"
        },
        {
            "cell_type": "markdown",
            "metadata": {},
            "source": "- list item 1\n- list Item 2\n- list Item 3\n\n___\n\n<table>\n<tr>\n    <th>Col 1</th>\n    <th>Col 2</th>\n    <th>Col 3</th> \n</tr>\n\n<tr>\n    <td>C11</td> \n    <td>C12</td> \n    <td>C13</td>\n</tr>\n\n<tr>\n    <td>C21</td> \n    <td>C22</td> \n    <td>C23</td>   \n</tr>\n\n</table>"
        },
        {
            "cell_type": "code",
            "execution_count": null,
            "metadata": {},
            "outputs": [],
            "source": ""
        }
    ],
    "metadata": {
        "kernelspec": {
            "display_name": "Python 3.10",
            "language": "python",
            "name": "python3"
        },
        "language_info": {
            "codemirror_mode": {
                "name": "ipython",
                "version": 3
            },
            "file_extension": ".py",
            "mimetype": "text/x-python",
            "name": "python",
            "nbconvert_exporter": "python",
            "pygments_lexer": "ipython3",
            "version": "3.10.6"
        }
    },
    "nbformat": 4,
    "nbformat_minor": 1
}