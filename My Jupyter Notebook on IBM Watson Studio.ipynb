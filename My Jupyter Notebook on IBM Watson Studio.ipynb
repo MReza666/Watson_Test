{
    "cells": [
        {
            "metadata": {},
            "cell_type": "markdown",
            "source": "<center>\n    <img src=\"https://cf-courses-data.s3.us.cloud-object-storage.appdomain.cloud/IBMDeveloperSkillsNetwork-DS0105EN-SkillsNetwork/labs/Module2/images/SN_web_lightmode.png\" width=\"300\" alt=\"cognitiveclass.ai logo\">\n</center>"
        },
        {
            "metadata": {},
            "cell_type": "markdown",
            "source": "# My Jupyter Notebook on IBM Watson Studio"
        },
        {
            "metadata": {
                "collapsed": true
            },
            "cell_type": "markdown",
            "source": "**MReza Amini**"
        },
        {
            "metadata": {},
            "cell_type": "markdown",
            "source": "Turbomachinery Engineer"
        },
        {
            "metadata": {},
            "cell_type": "markdown",
            "source": "*I am interested in data science because it could help to investigate an analyze large amount of data and extract relations between data. It could help improve design and performance of machines.*"
        },
        {
            "metadata": {},
            "cell_type": "markdown",
            "source": "### The foloowing code calculates the sum of integers from 1 to 10"
        },
        {
            "metadata": {},
            "cell_type": "code",
            "source": "sum(range(1,10+1))",
            "execution_count": 9,
            "outputs": [
                {
                    "output_type": "execute_result",
                    "execution_count": 9,
                    "data": {
                        "text/plain": "55"
                    },
                    "metadata": {}
                }
            ]
        },
        {
            "metadata": {},
            "cell_type": "markdown",
            "source": "- list item 1\n- list Item 2\n- list Item 3\n\n___\n<a href='https://www.coursera.org/'>Coursera.org</a>\n\n<table>\n<tr>\n    <th>Col 1</th>\n    <th>Col 2</th>\n    <th>Col 3</th> \n</tr>\n\n<tr>\n    <td>C11</td> \n    <td>C12</td> \n    <td>C13</td>\n</tr>\n\n<tr>\n    <td>C21</td> \n    <td>C22</td> \n    <td>C23</td>   \n</tr>\n\n</table>"
        },
        {
            "metadata": {},
            "cell_type": "code",
            "source": "",
            "execution_count": null,
            "outputs": []
        }
    ],
    "metadata": {
        "kernelspec": {
            "name": "python3",
            "display_name": "Python 3.10",
            "language": "python"
        },
        "language_info": {
            "name": "python",
            "version": "3.10.6",
            "mimetype": "text/x-python",
            "codemirror_mode": {
                "name": "ipython",
                "version": 3
            },
            "pygments_lexer": "ipython3",
            "nbconvert_exporter": "python",
            "file_extension": ".py"
        }
    },
    "nbformat": 4,
    "nbformat_minor": 1
}